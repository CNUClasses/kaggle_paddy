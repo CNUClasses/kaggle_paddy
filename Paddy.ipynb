{
 "cells": [
  {
   "cell_type": "code",
   "execution_count": null,
   "id": "cb5024d8-5984-4806-a310-5a4095458db7",
   "metadata": {},
   "outputs": [],
   "source": [
    "!pwd"
   ]
  },
  {
   "cell_type": "code",
   "execution_count": null,
   "id": "e4eb0ea0-2a7d-4b6b-946c-75bc2a83e970",
   "metadata": {},
   "outputs": [],
   "source": [
    "def do_setup():\n",
    "    # How to download competition data to temp folder(data) \n",
    "    # unzip it there, then symlink it like its a subdir\n",
    "    # NOTE: make sure kaggle.json is in /root/.kaggle/\n",
    "\n",
    "    #remove original symlink from this directory\n",
    "    !rm ./data\n",
    "\n",
    "    #create temp holder\n",
    "    !mkdir /root/data\n",
    "\n",
    "    #symlink it\n",
    "    !ln -s /root/data ./data\n",
    "\n",
    "    #download competition data to temp data folder\n",
    "    !cd ./data;kaggle competitions download -c paddy-disease-classification\n",
    "\n",
    "    #unzip it, -q is silent\n",
    "    !cd ./data;unzip -q paddy-disease-classification.zip\n",
    "\n",
    "    #setup dotfiles\n",
    "    !wget \"https://raw.githubusercontent.com/CNUClasses/dotfiles/master/setup.sh\";chmod 766 setup.sh;source ./setup.sh  \n",
    "    \n",
    "import os\n",
    "if(not os.path.exists('./data/train_images')):\n",
    "   do_setup()  "
   ]
  },
  {
   "cell_type": "code",
   "execution_count": null,
   "id": "835142b2-22ad-4d9f-8ea9-96c9aafd745d",
   "metadata": {},
   "outputs": [],
   "source": [
    "import pandas as pd\n",
    "df =pd.read_csv('./data/train.csv')\n",
    "df"
   ]
  },
  {
   "cell_type": "code",
   "execution_count": null,
   "id": "984bf6e1-34f9-4408-9447-220207210d53",
   "metadata": {},
   "outputs": [],
   "source": [
    "try: from path import Path\n",
    "except ModuleNotFoundError:\n",
    "    !pip install path\n",
    "try: import timm\n",
    "except ModuleNotFoundError:\n",
    "    !pip install timm"
   ]
  },
  {
   "cell_type": "code",
   "execution_count": null,
   "id": "60deeb82-2356-4e54-88cc-2e16291d60eb",
   "metadata": {},
   "outputs": [],
   "source": [
    "from fastai.vision.all import *\n",
    "set_seed(42)\n",
    "\n",
    "path =Path('./data/')"
   ]
  },
  {
   "cell_type": "code",
   "execution_count": null,
   "id": "511cbb92-a069-42f7-93ea-ac08c0a19154",
   "metadata": {},
   "outputs": [],
   "source": [
    "path.ls()"
   ]
  },
  {
   "cell_type": "code",
   "execution_count": null,
   "id": "2b89d19a-f382-42da-aa51-ad7e45ba8bb3",
   "metadata": {},
   "outputs": [],
   "source": [
    "files=get_image_files(path/'train_images')\n",
    "files"
   ]
  },
  {
   "cell_type": "code",
   "execution_count": null,
   "id": "34a07e72-d093-490f-a9c2-e07649043322",
   "metadata": {},
   "outputs": [],
   "source": [
    "img=PILImage.create(files[0])\n",
    "print(img.size)\n",
    "img.to_thumb(128)"
   ]
  },
  {
   "cell_type": "code",
   "execution_count": null,
   "id": "4a97cce6-ccc5-402f-bad3-521d110bf197",
   "metadata": {},
   "outputs": [],
   "source": [
    "from fastcore.parallel import *\n",
    "def f(o): return PILImage.create(o).size\n",
    "sizes=parallel(f,files,n_workers=8)\n",
    "pd.Series(sizes).value_counts()"
   ]
  },
  {
   "cell_type": "code",
   "execution_count": null,
   "id": "46000eb1-cde1-4fff-8c85-13479955f540",
   "metadata": {},
   "outputs": [],
   "source": [
    "trnpath=path/'train_images'"
   ]
  },
  {
   "cell_type": "code",
   "execution_count": null,
   "id": "6feb8ee3-c84d-4949-a98b-ef56bc35fa58",
   "metadata": {},
   "outputs": [],
   "source": [
    "dls=ImageDataLoaders.from_folder(trnpath, valid_pct=0.2, seed=42,item_tfms=Resize(480, method='squish'),batch_tfms=aug_transforms(size=128, min_scale=0.75))\n",
    "dls.show_batch(max_n=6)"
   ]
  },
  {
   "cell_type": "code",
   "execution_count": null,
   "id": "a33d8a5b-873f-4eec-b148-3b10b73d58be",
   "metadata": {},
   "outputs": [],
   "source": [
    "learn=vision_learner(dls,'resnet26d', metrics=error_rate,path='.')"
   ]
  },
  {
   "cell_type": "code",
   "execution_count": null,
   "id": "a5ee553a-279d-452c-888b-ff64817c8328",
   "metadata": {},
   "outputs": [],
   "source": [
    "learn.lr_find(suggest_funcs=(valley,slide))"
   ]
  },
  {
   "cell_type": "code",
   "execution_count": null,
   "id": "bcc886fb-9d3d-45b9-9f26-bda6fcf67ac6",
   "metadata": {},
   "outputs": [],
   "source": [
    "learn.fine_tune(3,0.01)"
   ]
  },
  {
   "cell_type": "markdown",
   "id": "aeaeef4d-f344-4a3a-98dd-921a1f649e00",
   "metadata": {},
   "source": [
    "### Try multihead"
   ]
  },
  {
   "cell_type": "code",
   "execution_count": null,
   "id": "42d07591-9220-4c3e-ae78-0a91b5706e1f",
   "metadata": {},
   "outputs": [],
   "source": [
    "#get the model thats part of learner\n",
    "m=learn.model\n",
    "# m"
   ]
  },
  {
   "cell_type": "code",
   "execution_count": null,
   "id": "828a90ae-fe47-4f3c-bcc2-1613d6c66e46",
   "metadata": {},
   "outputs": [],
   "source": [
    "#gets the head of the model\n",
    "h=m[1]\n",
    "h"
   ]
  },
  {
   "cell_type": "code",
   "execution_count": null,
   "id": "357e76de-a5b0-43e0-8e3f-481a280c6368",
   "metadata": {},
   "outputs": [],
   "source": [
    "#subtract the last layer\n",
    "ll=h[-1]\n",
    "ll"
   ]
  },
  {
   "cell_type": "code",
   "execution_count": null,
   "id": "5260a614-5ca3-4b1c-ba0c-7829e19c224b",
   "metadata": {},
   "outputs": [],
   "source": [
    "llp=list(ll.parameters())[0]"
   ]
  },
  {
   "cell_type": "code",
   "execution_count": null,
   "id": "066809c4-edd2-4374-a1f3-0f066f2341ed",
   "metadata": {},
   "outputs": [],
   "source": [
    "#get rid of last linear layer in model\n",
    "del(h[-1])\n",
    "# m"
   ]
  },
  {
   "cell_type": "code",
   "execution_count": null,
   "id": "d64054e8-ee70-4d77-9ec4-c157437907ce",
   "metadata": {},
   "outputs": [],
   "source": [
    "# learn.model"
   ]
  },
  {
   "cell_type": "markdown",
   "id": "702de05d-93d0-469a-b80f-865f614b43a3",
   "metadata": {},
   "source": [
    "## Multihead"
   ]
  },
  {
   "cell_type": "code",
   "execution_count": null,
   "id": "86f5dc72-949a-4723-b5c2-76415e9696dc",
   "metadata": {},
   "outputs": [],
   "source": [
    "dls=ImageDataLoaders.from_folder(trnpath, valid_pct=0.2, seed=42,item_tfms=Resize(480),batch_tfms=aug_transforms(size=224, min_scale=0.75))"
   ]
  },
  {
   "cell_type": "code",
   "execution_count": null,
   "id": "0b215b71-fdd6-4f46-ab57-9cc9de79b696",
   "metadata": {},
   "outputs": [],
   "source": [
    "dblock=DataBlock(blocks=(ImageBlock, CategoryBlock),\n",
    "                 get_items=get_image_files,\n",
    "                 get_y=parent_label,\n",
    "                 splitter=RandomSplitter(0.2, seed=42),\n",
    "                 item_tfms=Resize(480,method='squish'),\n",
    "                 batch_tfms=aug_transforms(size=224, min_scale=0.75))"
   ]
  },
  {
   "cell_type": "code",
   "execution_count": null,
   "id": "63bcc38e-9386-4a9d-aa87-05afd003c6ff",
   "metadata": {},
   "outputs": [],
   "source": [
    "path"
   ]
  },
  {
   "cell_type": "code",
   "execution_count": null,
   "id": "8d16ad5a-33d5-4561-9540-ae9e3e71ddda",
   "metadata": {},
   "outputs": [],
   "source": [
    "train_pth=path/'train_images'\n",
    "train_pth"
   ]
  },
  {
   "cell_type": "code",
   "execution_count": null,
   "id": "a665127c-ed23-4b5f-b47d-20cb40ee007d",
   "metadata": {},
   "outputs": [],
   "source": [
    "dls=dblock.dataloaders(train_pth)\n",
    "dls.show_batch()"
   ]
  },
  {
   "cell_type": "code",
   "execution_count": null,
   "id": "637309c1-0334-4a63-9c70-a3c251368aac",
   "metadata": {},
   "outputs": [],
   "source": [
    "#gets all the image files in a folder\n",
    "# len(get_image_files('./data'))"
   ]
  },
  {
   "cell_type": "code",
   "execution_count": null,
   "id": "87b95e24-edaa-49b3-8ad1-f627d152acb8",
   "metadata": {},
   "outputs": [],
   "source": [
    "import torch.nn as nn\n",
    "class DiseaseAndTypeClassifier(nn.Module):\n",
    "    def __init__(self,m):\n",
    "        #lets strip the last layer out of the head\n",
    "        del m[1][-1]\n",
    "        super(DiseaseAndTypeClassifier,self).__init__()\n",
    "        self.l1=nn.Linear(in_features=512, out_features=10, bias=False)  #rice type\n",
    "        self.l2=nn.Linear(in_features=512, out_features=10, bias=False)  #disease\n",
    "        self.m=m\n",
    "        \n",
    "    def forward(self,x):\n",
    "        x=self.m(x)\n",
    "        x1=self.l1(x)  #rice type\n",
    "        x2=self.l2(x)  #disease\n",
    "        return x1,x2\n",
    "      "
   ]
  },
  {
   "cell_type": "code",
   "execution_count": null,
   "id": "d67ed738-0ac1-45ad-830c-96c2c68515d6",
   "metadata": {},
   "outputs": [],
   "source": [
    "# Learner??"
   ]
  },
  {
   "cell_type": "code",
   "execution_count": null,
   "id": "00268a5a-3afc-4020-bcf9-426a76b6fcc6",
   "metadata": {},
   "outputs": [],
   "source": [
    "learn.loss_func\n",
    "c_loss=learn.loss_func"
   ]
  },
  {
   "cell_type": "code",
   "execution_count": null,
   "id": "22ca8483-e678-4900-892f-586bace160f0",
   "metadata": {},
   "outputs": [],
   "source": [
    "def dtc_loss(preds,targs):\n",
    "    rice_preds, disease_preds=preds\n",
    "    return c_loss(disease_preds,targs)\n",
    "\n",
    "def dtc_error(preds,targs):\n",
    "    rice_preds, disease_preds=preds\n",
    "    return error_rate(disease_preds,targs)"
   ]
  },
  {
   "cell_type": "code",
   "execution_count": null,
   "id": "a0c8c2c7-e029-44c5-ba30-2c96eaf3f9b5",
   "metadata": {},
   "outputs": [],
   "source": [
    "learn=vision_learner(dls,'resnet26d',  metrics=error_rate)\n",
    "dtc=DiseaseAndTypeClassifier(learn.model)\n",
    "learn.model=dtc\n",
    "learn.loss_func=dtc_loss\n",
    "learn.metrics=[dtc_error]"
   ]
  },
  {
   "cell_type": "code",
   "execution_count": null,
   "id": "30f2c003-c1c9-4220-8eb0-2f298711407b",
   "metadata": {},
   "outputs": [],
   "source": [
    "preds=learn.get_preds(dl=learn.dls.valid)"
   ]
  },
  {
   "cell_type": "code",
   "execution_count": null,
   "id": "38d74fbb-c42b-4a4d-a4b1-033afda924cf",
   "metadata": {},
   "outputs": [],
   "source": [
    "learn.lr_find()"
   ]
  },
  {
   "cell_type": "code",
   "execution_count": null,
   "id": "7bb59623-22b8-4fca-934b-5b5dc5af263a",
   "metadata": {},
   "outputs": [],
   "source": [
    "learn.fine_tune(1,0.01)"
   ]
  },
  {
   "cell_type": "code",
   "execution_count": null,
   "id": "a8a70c23-baaf-4bb7-a33a-1f04ae6da0a7",
   "metadata": {},
   "outputs": [],
   "source": [
    "#size of validation set?\n",
    "len(learn.dls.valid.get_idxs())"
   ]
  },
  {
   "cell_type": "code",
   "execution_count": null,
   "id": "9348b987-fd6b-431f-8d46-6b57ce19e258",
   "metadata": {},
   "outputs": [],
   "source": [
    "rice_preds, disease_preds=preds"
   ]
  },
  {
   "cell_type": "code",
   "execution_count": null,
   "id": "787f472a-37e0-4ec4-bfef-303e010b2e59",
   "metadata": {},
   "outputs": [],
   "source": [
    "#copy and deepcopy is causing problems below\n",
    "# from copy import copy,deepcopy\n",
    "# arch='resnet26d'\n",
    "# dls=ImageDataLoaders.from_folder(trnpath, valid_pct=0.2, seed=42,item_tfms=Resize(480),batch_tfms=aug_transforms(size=224, min_scale=0.75))\n",
    "# learn3=vision_learner(dls,arch,metrics=error_rate)\n",
    "# learn2=deepcopy(learn3)"
   ]
  },
  {
   "cell_type": "markdown",
   "id": "ee5f2c9f-20c2-4818-a594-4962a6acd5f2",
   "metadata": {
    "tags": []
   },
   "source": [
    "### Old notebook"
   ]
  },
  {
   "cell_type": "code",
   "execution_count": null,
   "id": "ce89bf7b-938f-4b86-848c-56314d16fb15",
   "metadata": {},
   "outputs": [],
   "source": [
    "llp.shape"
   ]
  },
  {
   "cell_type": "code",
   "execution_count": null,
   "id": "dcdfc581-9e14-44b7-b70f-ad9df610cb6d",
   "metadata": {},
   "outputs": [],
   "source": [
    "path"
   ]
  },
  {
   "cell_type": "code",
   "execution_count": null,
   "id": "5b1dacb7-ecb3-4e0b-9535-614c83719ac6",
   "metadata": {},
   "outputs": [],
   "source": [
    "ss=pd.read_csv(path/'sample_submission.csv')"
   ]
  },
  {
   "cell_type": "code",
   "execution_count": null,
   "id": "cbe8693e-38d0-417c-923c-7c5fee4a902a",
   "metadata": {},
   "outputs": [],
   "source": [
    "ss"
   ]
  },
  {
   "cell_type": "code",
   "execution_count": null,
   "id": "e4c6d344-3b73-4e92-bedc-50de7e87d5bb",
   "metadata": {},
   "outputs": [],
   "source": [
    "tst_files=get_image_files(path/'test_images').sorted()\n",
    "\n",
    "tst_dl=dls.test_dl(tst_files)"
   ]
  },
  {
   "cell_type": "code",
   "execution_count": null,
   "id": "fd026e8d-acf2-42ce-a80c-2ba91235859f",
   "metadata": {},
   "outputs": [],
   "source": [
    "probs, bb, idxs=learn.get_preds(dl=tst_dl, with_decoded=True)\n",
    "idxs"
   ]
  },
  {
   "cell_type": "code",
   "execution_count": null,
   "id": "57d77948-352f-4599-8f9d-ac0e5fd2580e",
   "metadata": {},
   "outputs": [],
   "source": [
    "dls.vocab"
   ]
  },
  {
   "cell_type": "code",
   "execution_count": null,
   "id": "e596bac7-0d3b-4b4e-84d6-8d0dd2fd0b5b",
   "metadata": {},
   "outputs": [],
   "source": [
    "d=dict(enumerate(dls.vocab))"
   ]
  },
  {
   "cell_type": "code",
   "execution_count": null,
   "id": "31e16440-1a7d-4772-8c5e-4a4d97ab104f",
   "metadata": {},
   "outputs": [],
   "source": [
    "idxs_np=idxs.clone()"
   ]
  },
  {
   "cell_type": "code",
   "execution_count": null,
   "id": "122b0050-062b-40c8-8b11-afe905cd17ad",
   "metadata": {},
   "outputs": [],
   "source": [
    "idxs"
   ]
  },
  {
   "cell_type": "code",
   "execution_count": null,
   "id": "7ebd5a2b-a659-4daf-a6bb-af2cc414128e",
   "metadata": {},
   "outputs": [],
   "source": [
    "vals=pd.Series(data=idxs, name=\"idxs\").map(d)\n",
    "vals"
   ]
  },
  {
   "cell_type": "code",
   "execution_count": null,
   "id": "d0af1ebe-770e-4937-b3a9-ef1a126a6bcb",
   "metadata": {},
   "outputs": [],
   "source": [
    "ss.label=vals"
   ]
  },
  {
   "cell_type": "code",
   "execution_count": null,
   "id": "f18e3eff-8235-43b6-9fbe-dc989545b8c1",
   "metadata": {},
   "outputs": [],
   "source": [
    "ss"
   ]
  },
  {
   "cell_type": "code",
   "execution_count": null,
   "id": "d30a9e0c-37e8-4e14-8c14-d5a24ac13aa7",
   "metadata": {},
   "outputs": [],
   "source": [
    "ss.to_csv('subm.csv',index=False)"
   ]
  },
  {
   "cell_type": "code",
   "execution_count": null,
   "id": "9a840b45-a9aa-4e11-9ab7-25ab8d3c4ada",
   "metadata": {},
   "outputs": [],
   "source": [
    "!pwd"
   ]
  },
  {
   "cell_type": "code",
   "execution_count": null,
   "id": "63fd8063-61c7-41de-856f-bea3adc25374",
   "metadata": {},
   "outputs": [],
   "source": [
    "from kaggle import api\n",
    "comp = 'paddy-disease-classification'\n",
    "api.competition_submit_cli('subm.csv', 'init', comp)"
   ]
  },
  {
   "cell_type": "code",
   "execution_count": null,
   "id": "d8af3434-fe0c-40fb-8041-1fa28074efff",
   "metadata": {},
   "outputs": [],
   "source": []
  }
 ],
 "metadata": {
  "kernelspec": {
   "display_name": "Python 3 (ipykernel)",
   "language": "python",
   "name": "python3"
  },
  "language_info": {
   "codemirror_mode": {
    "name": "ipython",
    "version": 3
   },
   "file_extension": ".py",
   "mimetype": "text/x-python",
   "name": "python",
   "nbconvert_exporter": "python",
   "pygments_lexer": "ipython3",
   "version": "3.9.13"
  }
 },
 "nbformat": 4,
 "nbformat_minor": 5
}
